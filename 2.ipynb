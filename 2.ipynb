{
 "cells": [
  {
   "cell_type": "code",
   "execution_count": 1,
   "metadata": {},
   "outputs": [
    {
     "name": "stderr",
     "output_type": "stream",
     "text": [
      "c:\\Users\\koval\\DataAnalysisLab4\\.venv\\Lib\\site-packages\\transformers\\models\\qwen2\\modeling_qwen2.py:544: UserWarning: 1Torch was not compiled with flash attention. (Triggered internally at ..\\aten\\src\\ATen\\native\\transformers\\cuda\\sdp_utils.cpp:263.)\n",
      "  attn_output = torch.nn.functional.scaled_dot_product_attention(\n"
     ]
    }
   ],
   "source": [
    "from transformers import pipeline\n",
    "\n",
    "messages = [\n",
    "    {\"role\": \"user\", \"content\": \"Write code which downloads file from web and saves it local\"},\n",
    "]\n",
    "pipe = pipeline(\"text-generation\", model=\"Qwen/Qwen2.5-Coder-0.5B-Instruct\", max_length=500, device=\"cuda\")\n",
    "answer = pipe(messages)"
   ]
  },
  {
   "cell_type": "code",
   "execution_count": 2,
   "metadata": {},
   "outputs": [
    {
     "name": "stdout",
     "output_type": "stream",
     "text": [
      "[{'generated_text': [{'role': 'user', 'content': 'Write code which downloads file from web and saves it local'}, {'role': 'assistant', 'content': 'To download a file from a web and save it locally in Python, you can use the `requests` library to handle HTTP requests and the `open` function to write the content to a file. Here\\'s an example code snippet that demonstrates how to download a file from a web URL and save it locally:\\n\\n```python\\nimport requests\\n\\ndef download_file(url, local_filename):\\n    try:\\n        # Send a GET request to the URL\\n        response = requests.get(url)\\n        \\n        # Check if the request was successful\\n        if response.status_code == 200:\\n            # Open the local file in binary write mode\\n            with open(local_filename, \\'wb\\') as file:\\n                # Write the content of the response to the file\\n                file.write(response.content)\\n            print(f\"File downloaded successfully and saved as {local_filename}\")\\n        else:\\n            print(f\"Failed to download file. Status code: {response.status_code}\")\\n    except requests.exceptions.RequestException as e:\\n        print(f\"An error occurred while downloading the file: {e}\")\\n\\n# Example usage\\nurl = \"https://example.com/file.zip\"\\nlocal_filename = \"downloaded_file.zip\"\\ndownload_file(url, local_filename)\\n```\\n\\n### Explanation:\\n\\n1. **Import the `requests` library**: This library is used to send HTTP requests.\\n\\n2. **Define the `download_file` function**:\\n   - Takes two parameters: `url` (the URL of the file to download) and `local_filename` (the name of the local file where the file will be saved).\\n   - Sends a GET request to the specified URL using `requests.get()`.\\n   - Checks if the request was successful by verifying the status code.\\n   - If the request is successful, it opens the local file in binary write mode (`\\'wb\\'`) and writes the content of the response to the file.\\n   - Prints a success message or an error message if the request fails.\\n\\n3. **Example usage**: The example demonstrates how to download a file from \"https://example.com/file.zip\" and save it as \"downloaded_file.zip\".\\n\\nMake sure to replace `\"https://example.com/file.zip\"` with the actual URL of the file you want to download. Also, ensure that you have'}]}]\n"
     ]
    }
   ],
   "source": [
    "print(answer)"
   ]
  },
  {
   "cell_type": "markdown",
   "metadata": {},
   "source": [
    "To download a file from a web and save it locally in Python, you can use the requests library to handle HTTP requests and the open function to write the content to a file. Here's an example code snippet that demonstrates how to download a file from a web URL and save it locally:\n",
    "```\n",
    "python\n",
    "import requests\n",
    "\n",
    "def download_file(url, local_filename):\n",
    "    try:\n",
    "        # Send a GET request to the URL\n",
    "        response = requests.get(url)\n",
    "        \n",
    "        # Check if the request was successful\n",
    "        if response.status_code == 200:\n",
    "            # Open the local file in binary write mode\n",
    "            with open(local_filename, 'wb') as file:\n",
    "                # Write the content of the response to the file\n",
    "                file.write(response.content)\n",
    "            print(f\"File downloaded successfully and saved as {local_filename}\")\n",
    "        else:\n",
    "            print(f\"Failed to download file. Status code: {response.status_code}\")\n",
    "    except requests.exceptions.RequestException as e:\n",
    "        print(f\"An error occurred while downloading the file: {e}\")\n",
    "\n",
    "# Example usage\n",
    "url = \"https://example.com/file.zip\"\n",
    "local_filename = \"downloaded_file.zip\"\n",
    "download_file(url, local_filename)\n",
    "```"
   ]
  },
  {
   "cell_type": "code",
   "execution_count": null,
   "metadata": {},
   "outputs": [],
   "source": []
  }
 ],
 "metadata": {
  "kernelspec": {
   "display_name": ".venv",
   "language": "python",
   "name": "python3"
  },
  "language_info": {
   "codemirror_mode": {
    "name": "ipython",
    "version": 3
   },
   "file_extension": ".py",
   "mimetype": "text/x-python",
   "name": "python",
   "nbconvert_exporter": "python",
   "pygments_lexer": "ipython3",
   "version": "3.10.11"
  }
 },
 "nbformat": 4,
 "nbformat_minor": 2
}
